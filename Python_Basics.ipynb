{
  "nbformat": 4,
  "nbformat_minor": 0,
  "metadata": {
    "colab": {
      "provenance": []
    },
    "kernelspec": {
      "name": "python3",
      "display_name": "Python 3"
    },
    "language_info": {
      "name": "python"
    }
  },
  "cells": [
    {
      "cell_type": "code",
      "execution_count": null,
      "metadata": {
        "id": "pwqGv9STHoAv"
      },
      "outputs": [],
      "source": []
    },
    {
      "cell_type": "markdown",
      "source": [
        "**Python Basics Questions**"
      ],
      "metadata": {
        "id": "LuRO6CweHztq"
      }
    },
    {
      "cell_type": "markdown",
      "source": [
        "1. What is Python, and why is it popular\n",
        "  -Python is a high-level, interpreted programming language known for its simplicity and readability. It supports multiple programming paradigms, including procedural, object-oriented, and functional programming. Python is widely used for web development, data science, artificial intelligence, automation, and more.\n",
        "\n",
        "  -It is popular because of the points below\n",
        "  Easy to Learn & Readable\n",
        "        Versatile\n",
        "        Extensive Libraries & Frameworks\n",
        "        Large Community Support\n",
        "        Cross-Platform Compatibility\n",
        "        Automation & Scripting\n",
        "        Integration with Other Languages\n",
        "        Strong Industry Demand\n",
        "\n",
        "2. What is an interpreter in Python\n",
        "    -An interpreter in Python is a program that executes Python code line by line instead of compiling the entire code at once. This allows for easy debugging and rapid development\n",
        "\n",
        "\n",
        "3. What are pre-defined keywords in Python\n",
        " -Pre-defined keywords in Python are reserved words that have special meanings and cannot be used as variable names, function names, or identifiers. These keywords are essential for defining the syntax and structure of Python programs.\n",
        "\n",
        " 4. Can keywords be used as variable names?\n",
        "   - No, Python keywords cannot be used as variable names because they are reserved for specific functionalities in the language. Using a keyword as a variable name will result in a SyntaxError\n",
        "  \n",
        "5. What is mutability in Python\n",
        "\n",
        "  - Mutability in Python refers to whether an object's value can be changed after it is created.\n",
        "\n",
        "Mutable Objects: Can be changed after creation.\n",
        "Immutable Objects: Cannot be changed after creation.\n",
        "\n",
        "6. Why are lists mutable, but tuples are immutable\n",
        "-The key difference between lists and tuples in Python lies in how they store and manage data in memory.\n",
        "Lists Are Mutable\n",
        "Lists are designed for dynamic data storage.\n",
        "They allow modifications (add, remove, or change elements).\n",
        "Stored in memory as a collection of references to objects, allowing changes.\n",
        "\n",
        "Tuples Are Immutable\n",
        "Tuples are fixed once created.\n",
        "Designed for fast access and hashability.\n",
        "They store references to objects, but their structure cannot change.\n",
        "\n",
        "7. What is the difference between “==” and “is” operators in Python\n",
        "\n",
        "-Both == and is are comparison operators, but they work differently\n",
        "== (Equality Operator)\n",
        "Checks if two variables have the same value.\n",
        "Even if two different objects have the same value, == will return True.\n",
        "\n",
        "is (Identity Operator)\n",
        "Checks if two variables refer to the same object in memory.\n",
        "If two variables point to the exact same object, is returns True\n",
        "\n",
        "8.What are logical operators in Python?\n",
        "\n",
        "-Logical operators in Python are used to combine conditional statements and return True or False based on the conditions.\n",
        "and\tReturns True if both conditions are True\n",
        "or\tReturns True if at least one condition is True\n",
        "not\tNegates a condition (True → False, False → True)\n",
        "\n",
        "9. What is type casting in Python\n",
        "\n",
        "Type casting (also known as type conversion) is the process of converting one data type into another. Python supports two types of type casting:\n",
        "\n",
        "Implicit Type Casting (Automatic)\n",
        "Explicit Type Casting (Manual)\n",
        "\n",
        "10. What is the difference between implicit and explicit type casting\n",
        "\n",
        "-Implicit Type Casting (Automatic Conversion)\n",
        "Python automatically converts a smaller data type into a larger one to avoid data loss\n",
        "\n",
        "Python automatically converts int to float to prevent precision loss.\n",
        "\n",
        "-Explicit Type Casting (Manual Conversion)\n",
        "The programmer manually converts one data type into another using functions.\n",
        "\n",
        "Here, int(), str(), and float() are used to manually change data types\n",
        "\n",
        "11. What is the purpose of conditional statements in Python\n",
        "\n",
        "Conditional statements in Python are used to make decisions in a program based on conditions. They allow the program to execute different blocks of code depending on whether a condition is True or False.\n",
        "\n",
        "  Control the flow of execution\n",
        "  Make decisions dynamically\n",
        "  Improve program flexibility and interactivity\n",
        "\n",
        "12. How does the elif statement work\n",
        "\n",
        "The elif (short for \"else if\") statement is used when you need to check multiple conditions. It allows the program to evaluate different conditions one by one and execute the first one that is True.\n",
        "\n",
        "13. What is the difference between for and while loops\n",
        "\n",
        "Both for and while loops are used for repeating a block of code, but they work differently.\n",
        "\n",
        "Feature\t                       for Loop\t                                                                           \n",
        "Use Case\t                 Used when the number of iterations is known\t               \n",
        "Condition\t                 Iterates over a sequence (list, tuple, range, etc.)\t      \n",
        "Best For\t                 Iterating over collections\t                                               \n",
        "May Run Infinitely?\t No, because it loops over a defined sequence\n",
        "\n",
        "Feature\t                       while Loop\t                                                                           \n",
        "Use Case\t                 \t Used when the number of iterations is unknown\n",
        "                                          Runs as long as a condition is True\n",
        "Condition\t                \t   Running a loop until a condition changes   \n",
        "Best For\t                                                             \n",
        "May Run Infinitely?\t            Yes, if the condition never becomes False  \n",
        "\n",
        "14.Describe a scenario where a while loop is more suitable than a for loop\n",
        "\n",
        "Scenario Where a while Loop is More Suitable Than a for Loop\n",
        "A while loop is more suitable when the number of iterations is unknown and depends on a condition being met.\n",
        "\n",
        "Example Scenario: User Login System\n",
        "Imagine creating a login system that keeps asking for a password until the user enters the correct one. Since we don’t know how many times the user will enter the wrong password, a while loop is the best choice."
      ],
      "metadata": {
        "id": "kAsccsrdH_Jc"
      }
    },
    {
      "cell_type": "code",
      "source": [
        "correct_password = \"python123\"\n",
        "user_input = \"\"\n",
        "\n",
        "while user_input != correct_password:\n",
        "    user_input = input(\"Enter password: \")\n",
        "    if user_input == correct_password:\n",
        "        print(\"Access granted!\")\n",
        "    else:\n",
        "        print(\"Wrong password, try again!\")\n"
      ],
      "metadata": {
        "colab": {
          "base_uri": "https://localhost:8080/"
        },
        "id": "PnDeJL4wP8Ln",
        "outputId": "34342e6c-11e1-46b7-9b91-fca50b2c85ae"
      },
      "execution_count": 1,
      "outputs": [
        {
          "output_type": "stream",
          "name": "stdout",
          "text": [
            "Enter password: CascaSC\n",
            "Wrong password, try again!\n",
            "Enter password: python123\n",
            "Access granted!\n"
          ]
        }
      ]
    },
    {
      "cell_type": "markdown",
      "source": [
        "## **Practical Questions**"
      ],
      "metadata": {
        "id": "s3YRv2pKQJyV"
      }
    },
    {
      "cell_type": "code",
      "source": [
        "# 1. Write a Python program to print \"Hello, World!\n",
        "\n",
        "print(\"Hello World\")"
      ],
      "metadata": {
        "colab": {
          "base_uri": "https://localhost:8080/"
        },
        "id": "mFnhlD8UQRDo",
        "outputId": "a10f8ca0-79db-4d8e-c2ec-835201fab78a"
      },
      "execution_count": 3,
      "outputs": [
        {
          "output_type": "stream",
          "name": "stdout",
          "text": [
            "Hello World\n"
          ]
        }
      ]
    },
    {
      "cell_type": "code",
      "source": [
        "#2. Write a Python program that displays your name and age\n",
        "\n",
        "\n",
        "name = \"Aravinth\"\n",
        "age = 25\n",
        "\n",
        "\n",
        "print(\"My name is\", name)\n",
        "print(\"I am\", age, \"years old\")\n"
      ],
      "metadata": {
        "colab": {
          "base_uri": "https://localhost:8080/"
        },
        "id": "Y6rfWvlIQcQk",
        "outputId": "2fee2b04-778e-4ad5-83be-a93f8e3aa82c"
      },
      "execution_count": 4,
      "outputs": [
        {
          "output_type": "stream",
          "name": "stdout",
          "text": [
            "My name is Aravinth\n",
            "I am 25 years old\n"
          ]
        }
      ]
    },
    {
      "cell_type": "code",
      "source": [
        "#3.Write code to print all the pre-defined keywords in Python using the keyword library\n",
        "\n",
        "\n",
        "\n",
        "\n",
        "print(\"Python Keywords:\")\n",
        "print(keyword.kwlist)\n",
        "\n",
        "\n",
        "print(\"\\nTotal number of keywords:\", len(keyword.kwlist))\n"
      ],
      "metadata": {
        "colab": {
          "base_uri": "https://localhost:8080/"
        },
        "id": "ViWACLk3Qt3t",
        "outputId": "dec6df99-9962-4247-dd54-5a32904f90f2"
      },
      "execution_count": 8,
      "outputs": [
        {
          "output_type": "stream",
          "name": "stdout",
          "text": [
            "Python Keywords:\n",
            "['False', 'None', 'True', 'and', 'as', 'assert', 'async', 'await', 'break', 'class', 'continue', 'def', 'del', 'elif', 'else', 'except', 'finally', 'for', 'from', 'global', 'if', 'import', 'in', 'is', 'lambda', 'nonlocal', 'not', 'or', 'pass', 'raise', 'return', 'try', 'while', 'with', 'yield']\n",
            "\n",
            "Total number of keywords: 35\n"
          ]
        }
      ]
    },
    {
      "cell_type": "code",
      "source": [
        "#4.  Write a program that checks if a given word is a Python keyword\n",
        "\n",
        "\n",
        "\n",
        "word = input(\"Enter a word: \")\n",
        "\n",
        "\n",
        "if keyword.iskeyword(word):\n",
        "    print(f\"'{word}' is a Python keyword.\")\n",
        "else:\n",
        "    print(f\"'{word}' is NOT a Python keyword.\")\n"
      ],
      "metadata": {
        "colab": {
          "base_uri": "https://localhost:8080/"
        },
        "id": "9pzuBCoZQ89z",
        "outputId": "cd34f13a-d70d-4fc3-eadc-a97f5cd6abb3"
      },
      "execution_count": 9,
      "outputs": [
        {
          "output_type": "stream",
          "name": "stdout",
          "text": [
            "Enter a word: while\n",
            "'while' is a Python keyword.\n"
          ]
        }
      ]
    },
    {
      "cell_type": "code",
      "source": [
        "#5. Create a list and tuple in Python, and demonstrate how attempting to change an element works differently for each\n",
        "\n",
        "# Creating a list (mutable)\n",
        "my_list = [10, 20, 30, 40]\n",
        "print(\"Original list:\", my_list)\n",
        "\n",
        "# Modifying an element in the list\n",
        "my_list[1] = 99  # Changing the second element\n",
        "print(\"Modified list:\", my_list)\n",
        "\n",
        "# Creating a tuple (immutable)\n",
        "my_tuple = (10, 20, 30, 40)\n",
        "print(\"\\nOriginal tuple:\", my_tuple)\n",
        "\n",
        "# Attempting to modify an element in the tuple\n",
        "try:\n",
        "    my_tuple[1] = 99  # Trying to change the second element\n",
        "except TypeError as e:\n",
        "    print(\"Error:\", e)  # Tuples are immutable\n"
      ],
      "metadata": {
        "colab": {
          "base_uri": "https://localhost:8080/"
        },
        "id": "DG6-jIJKRcGF",
        "outputId": "e0ac07c6-8ad1-4375-fc8b-544fda8a1387"
      },
      "execution_count": 10,
      "outputs": [
        {
          "output_type": "stream",
          "name": "stdout",
          "text": [
            "Original list: [10, 20, 30, 40]\n",
            "Modified list: [10, 99, 30, 40]\n",
            "\n",
            "Original tuple: (10, 20, 30, 40)\n",
            "Error: 'tuple' object does not support item assignment\n"
          ]
        }
      ]
    },
    {
      "cell_type": "code",
      "source": [
        "#6. Write a function to demonstrate the behavior of mutable and immutable arguments\n",
        "\n",
        "def modify_values(num, lst):\n",
        "\n",
        "    num += 10\n",
        "    lst.append(99)\n",
        "\n",
        "    print(\"Inside function - num:\", num)\n",
        "    print(\"Inside function - lst:\", lst)\n",
        "\n",
        "# Immutable argument (integer)\n",
        "x = 5\n",
        "\n",
        "# Mutable argument (list)\n",
        "my_list = [1, 2, 3]\n",
        "\n",
        "print(\"Before function call - x:\", x)\n",
        "print(\"Before function call - my_list:\", my_list)\n",
        "\n",
        "# Call function\n",
        "modify_values(x, my_list)\n",
        "\n",
        "print(\"\\nAfter function call - x:\", x)  # Unchanged\n",
        "print(\"After function call - my_list:\", my_list)  # Changed\n"
      ],
      "metadata": {
        "colab": {
          "base_uri": "https://localhost:8080/"
        },
        "id": "Jrsh4uJcR9F6",
        "outputId": "867485fb-a807-48ca-df56-75de0ced3864"
      },
      "execution_count": 11,
      "outputs": [
        {
          "output_type": "stream",
          "name": "stdout",
          "text": [
            "Before function call - x: 5\n",
            "Before function call - my_list: [1, 2, 3]\n",
            "Inside function - num: 15\n",
            "Inside function - lst: [1, 2, 3, 99]\n",
            "\n",
            "After function call - x: 5\n",
            "After function call - my_list: [1, 2, 3, 99]\n"
          ]
        }
      ]
    },
    {
      "cell_type": "code",
      "source": [
        "# 7. Write a function to demonstrate the behavior of mutable and immutable arguments\n",
        "\n",
        "def modify_values(num, lst):\n",
        "\n",
        "    num += 10\n",
        "    lst.append(99)\n",
        "\n",
        "    print(\"Inside function - num:\", num)\n",
        "    print(\"Inside function - lst:\", lst)\n",
        "\n",
        "# Immutable argument (integer)\n",
        "x = 5\n",
        "\n",
        "# Mutable argument (list)\n",
        "my_list = [1, 2, 3]\n",
        "\n",
        "print(\"Before function call - x:\", x)\n",
        "print(\"Before function call - my_list:\", my_list)\n",
        "\n",
        "# Call function\n",
        "modify_values(x, my_list)\n",
        "\n",
        "print(\"\\nAfter function call - x:\", x)  # Unchanged\n",
        "print(\"After function call - my_list:\", my_list)  # Changed"
      ],
      "metadata": {
        "colab": {
          "base_uri": "https://localhost:8080/"
        },
        "id": "iJjT3CwfSUyY",
        "outputId": "141ab6f2-aa69-4488-8b67-6482488e19e4"
      },
      "execution_count": 12,
      "outputs": [
        {
          "output_type": "stream",
          "name": "stdout",
          "text": [
            "Before function call - x: 5\n",
            "Before function call - my_list: [1, 2, 3]\n",
            "Inside function - num: 15\n",
            "Inside function - lst: [1, 2, 3, 99]\n",
            "\n",
            "After function call - x: 5\n",
            "After function call - my_list: [1, 2, 3, 99]\n"
          ]
        }
      ]
    },
    {
      "cell_type": "code",
      "source": [
        "#8. Write a program to demonstrate the use of logical operators\n",
        "\n",
        "# Define variables\n",
        "x = 10\n",
        "y = 20\n",
        "z = 30\n",
        "\n",
        "# Using 'and' operator (Both conditions must be True)\n",
        "print(\"x < y and y < z:\", x < y and y < z)\n",
        "\n",
        "# Using 'or' operator (At least one condition must be True)\n",
        "print(\"x > y or y < z:\", x > y or y < z)\n",
        "\n",
        "# Using 'not' operator (Reverses the condition)\n",
        "print(\"not(x < y):\", not (x < y))\n"
      ],
      "metadata": {
        "colab": {
          "base_uri": "https://localhost:8080/"
        },
        "id": "Spd08QGsSnHp",
        "outputId": "ec35e087-f738-467b-818c-2801d980b282"
      },
      "execution_count": 13,
      "outputs": [
        {
          "output_type": "stream",
          "name": "stdout",
          "text": [
            "x < y and y < z: True\n",
            "x > y or y < z: True\n",
            "not(x < y): False\n"
          ]
        }
      ]
    },
    {
      "cell_type": "code",
      "source": [
        "#9. Write a Python program to convert user input from string to integer, float, and boolean types\n",
        "\n",
        "# Get user input as a string\n",
        "user_input = input(\"Enter a value: \")\n",
        "\n",
        "# Convert to integer\n",
        "try:\n",
        "    int_value = int(user_input)\n",
        "    print(\"Integer value:\", int_value)\n",
        "except ValueError:\n",
        "    print(\"Cannot convert to integer.\")\n",
        "\n",
        "# Convert to float\n",
        "try:\n",
        "    float_value = float(user_input)\n",
        "    print(\"Float value:\", float_value)\n",
        "except ValueError:\n",
        "    print(\"Cannot convert to float.\")\n",
        "\n",
        "# Convert to boolean\n",
        "bool_value = bool(user_input)  # Any non-empty string is True\n",
        "print(\"Boolean value:\", bool_value)\n",
        "\n"
      ],
      "metadata": {
        "colab": {
          "base_uri": "https://localhost:8080/"
        },
        "id": "lxBC-qu_SzcZ",
        "outputId": "c8159c7a-3e18-48a4-9bed-c7910f714b21"
      },
      "execution_count": 17,
      "outputs": [
        {
          "output_type": "stream",
          "name": "stdout",
          "text": [
            "Enter a value: 30\n",
            "Integer value: 30\n",
            "Float value: 30.0\n",
            "Boolean value: True\n"
          ]
        }
      ]
    },
    {
      "cell_type": "code",
      "source": [
        "#10. Write code to demonstrate type casting with list elements\n",
        "\n",
        "# List of string numbers\n",
        "str_list = [\"10\", \"20.5\", \"0\", \"\", \"True\", \"False\"]\n",
        "\n",
        "# Convert to integers (ignoring non-convertible values)\n",
        "int_list = []\n",
        "for item in str_list:\n",
        "    try:\n",
        "        int_list.append(int(item))  # Convert to integer\n",
        "    except ValueError:\n",
        "        int_list.append(None)  # Append None if conversion fails\n",
        "\n",
        "# Convert to floats\n",
        "float_list = []\n",
        "for item in str_list:\n",
        "    try:\n",
        "        float_list.append(float(item))  # Convert to float\n",
        "    except ValueError:\n",
        "        float_list.append(None)  # Append None if conversion fails\n",
        "\n",
        "# Convert to booleans\n",
        "bool_list = [bool(item) for item in str_list]  # Convert to boolean\n",
        "\n",
        "# Print the results\n",
        "print(\"Original list:\", str_list)\n",
        "print(\"Integer list:\", int_list)  # Non-numeric values become None\n",
        "print(\"Float list:\", float_list)  # Non-numeric values become None\n",
        "print(\"Boolean list:\", bool_list)  # Empty string → False, others → True\n",
        "\n",
        "\n"
      ],
      "metadata": {
        "colab": {
          "base_uri": "https://localhost:8080/"
        },
        "id": "b5rhZjIyTTl1",
        "outputId": "a63aade6-cad0-4e1b-f20d-ff6ed79e4411"
      },
      "execution_count": 18,
      "outputs": [
        {
          "output_type": "stream",
          "name": "stdout",
          "text": [
            "Original list: ['10', '20.5', '0', '', 'True', 'False']\n",
            "Integer list: [10, None, 0, None, None, None]\n",
            "Float list: [10.0, 20.5, 0.0, None, None, None]\n",
            "Boolean list: [True, True, True, False, True, True]\n"
          ]
        }
      ]
    },
    {
      "cell_type": "code",
      "source": [
        "#11. Write a program that checks if a number is positive, negative, or zero\n",
        "\n",
        "# Get user input\n",
        "num = float(input(\"Enter a number: \"))\n",
        "\n",
        "\n",
        "if num > 0:\n",
        "    print(\"The number is positive.\")\n",
        "elif num < 0:\n",
        "    print(\"The number is negative.\")\n",
        "else:\n",
        "    print(\"The number is zero.\")\n"
      ],
      "metadata": {
        "colab": {
          "base_uri": "https://localhost:8080/"
        },
        "id": "lnhc6FxFT6wr",
        "outputId": "f9931e27-6a30-41fc-b618-f7a7fc8327e7"
      },
      "execution_count": 19,
      "outputs": [
        {
          "output_type": "stream",
          "name": "stdout",
          "text": [
            "Enter a number: 10\n",
            "The number is positive.\n"
          ]
        }
      ]
    },
    {
      "cell_type": "code",
      "source": [
        "#12. Write a for loop to print numbers from 1 to 100\n",
        "\n",
        "# Using a for loop to print numbers from 1 to 100\n",
        "for num in range(1, 101):\n",
        "    print(num)\n"
      ],
      "metadata": {
        "colab": {
          "base_uri": "https://localhost:8080/"
        },
        "id": "iPbK4SXQUI7N",
        "outputId": "e07fb043-7662-4fc3-bbfa-32ad3b7be43a"
      },
      "execution_count": 20,
      "outputs": [
        {
          "output_type": "stream",
          "name": "stdout",
          "text": [
            "1\n",
            "2\n",
            "3\n",
            "4\n",
            "5\n",
            "6\n",
            "7\n",
            "8\n",
            "9\n",
            "10\n",
            "11\n",
            "12\n",
            "13\n",
            "14\n",
            "15\n",
            "16\n",
            "17\n",
            "18\n",
            "19\n",
            "20\n",
            "21\n",
            "22\n",
            "23\n",
            "24\n",
            "25\n",
            "26\n",
            "27\n",
            "28\n",
            "29\n",
            "30\n",
            "31\n",
            "32\n",
            "33\n",
            "34\n",
            "35\n",
            "36\n",
            "37\n",
            "38\n",
            "39\n",
            "40\n",
            "41\n",
            "42\n",
            "43\n",
            "44\n",
            "45\n",
            "46\n",
            "47\n",
            "48\n",
            "49\n",
            "50\n",
            "51\n",
            "52\n",
            "53\n",
            "54\n",
            "55\n",
            "56\n",
            "57\n",
            "58\n",
            "59\n",
            "60\n",
            "61\n",
            "62\n",
            "63\n",
            "64\n",
            "65\n",
            "66\n",
            "67\n",
            "68\n",
            "69\n",
            "70\n",
            "71\n",
            "72\n",
            "73\n",
            "74\n",
            "75\n",
            "76\n",
            "77\n",
            "78\n",
            "79\n",
            "80\n",
            "81\n",
            "82\n",
            "83\n",
            "84\n",
            "85\n",
            "86\n",
            "87\n",
            "88\n",
            "89\n",
            "90\n",
            "91\n",
            "92\n",
            "93\n",
            "94\n",
            "95\n",
            "96\n",
            "97\n",
            "98\n",
            "99\n",
            "100\n"
          ]
        }
      ]
    },
    {
      "cell_type": "code",
      "source": [
        "#13.  Write a Python program to find the sum of all even numbers between 1 and 50\n",
        "\n",
        "# Initialize sum variable\n",
        "sum_even = 0\n",
        "\n",
        "# Loop through even numbers from 2 to 50\n",
        "for num in range(2, 51, 2):  # Step of 2 ensures only even numbers\n",
        "    sum_even += num  # Add the even number to sum\n",
        "\n",
        "# Print the final sum\n",
        "print(\"The sum of all even numbers between 1 and 50 is:\", sum_even)\n"
      ],
      "metadata": {
        "colab": {
          "base_uri": "https://localhost:8080/"
        },
        "id": "l9bDdPJZUSrW",
        "outputId": "097c2882-00f3-4625-f437-0e65053a5951"
      },
      "execution_count": 21,
      "outputs": [
        {
          "output_type": "stream",
          "name": "stdout",
          "text": [
            "The sum of all even numbers between 1 and 50 is: 650\n"
          ]
        }
      ]
    },
    {
      "cell_type": "code",
      "source": [
        "#14. # Get user input\n",
        "text = input(\"Enter a string: \")\n",
        "\n",
        "# Initialize variables\n",
        "reversed_text = \"\"\n",
        "index = len(text) - 1  # Start from the last index\n",
        "\n",
        "# Loop to reverse the string\n",
        "while index >= 0:\n",
        "    reversed_text += text[index]  # Append characters in reverse order\n",
        "    index -= 1  # Move to the previous character\n",
        "\n",
        "# Print the reversed string\n",
        "print(\"Reversed string:\", reversed_text)\n"
      ],
      "metadata": {
        "colab": {
          "base_uri": "https://localhost:8080/"
        },
        "id": "KkfwN_dXUkNQ",
        "outputId": "2ce3995d-5be1-4b5a-a80b-9d6a9821b89b"
      },
      "execution_count": 22,
      "outputs": [
        {
          "output_type": "stream",
          "name": "stdout",
          "text": [
            "Enter a string: PW SKILLS\n",
            "Reversed string: SLLIKS WP\n"
          ]
        }
      ]
    },
    {
      "cell_type": "code",
      "source": [
        "#15. Write a Python program to calculate the factorial of a number provided by the user using a while loop\n",
        "\n",
        "# Get user input\n",
        "num = int(input(\"Enter a number: \"))\n",
        "\n",
        "# Check for negative input\n",
        "if num < 0:\n",
        "    print(\"Factorial is not defined for negative numbers.\")\n",
        "else:\n",
        "    # Initialize variables\n",
        "    factorial = 1\n",
        "    i = num\n",
        "\n",
        "    # Calculate factorial using a while loop\n",
        "    while i > 1:\n",
        "        factorial *= i  # Multiply the current number\n",
        "        i -= 1  # Decrease the number\n",
        "\n",
        "    # Print the result\n",
        "    print(f\"The factorial of {num} is: {factorial}\")\n"
      ],
      "metadata": {
        "colab": {
          "base_uri": "https://localhost:8080/"
        },
        "id": "NyPMRqymUttd",
        "outputId": "ac8640d7-e248-4913-e66c-ed3bf77dadff"
      },
      "execution_count": 23,
      "outputs": [
        {
          "output_type": "stream",
          "name": "stdout",
          "text": [
            "Enter a number: 5\n",
            "The factorial of 5 is: 120\n"
          ]
        }
      ]
    },
    {
      "cell_type": "code",
      "source": [],
      "metadata": {
        "id": "w0nDvn19VAo9"
      },
      "execution_count": null,
      "outputs": []
    }
  ]
}